{
 "cells": [
  {
   "cell_type": "markdown",
   "metadata": {},
   "source": [
    "### PT1"
   ]
  },
  {
   "cell_type": "code",
   "execution_count": 8,
   "metadata": {},
   "outputs": [
    {
     "name": "stdout",
     "output_type": "stream",
     "text": [
      "Enter any number : 1234\n",
      "\n",
      "Product of all digits in 1234 : 24\n"
     ]
    }
   ],
   "source": [
    "#ques 1: WAP to take input of a number and display the product of the digits of the number\n",
    "\n",
    "num = int(input(\"Enter any number : \"))\n",
    "\n",
    "temp = num\n",
    "product = 1;\n",
    "\n",
    "while(temp != 0):\n",
    "\n",
    "    product = product * (temp % 10);\n",
    "\n",
    "    # Remove last digit from temp.\n",
    "    temp = int(temp / 10)\n",
    "\n",
    "print(\"\\nProduct of all digits in\", num, \":\", product)"
   ]
  },
  {
   "cell_type": "code",
   "execution_count": 41,
   "metadata": {},
   "outputs": [
    {
     "name": "stdout",
     "output_type": "stream",
     "text": [
      "Enter the value of x:3\n",
      "Enter the value of y:34\n",
      "After Swapping: x = 4  y = 4\n"
     ]
    }
   ],
   "source": [
    "#ques 2: WAP to take inputs of 2 numbers and print the number after swapping using single instruction\n",
    "\n",
    "x = input('Enter the value of x:')\n",
    "y = input('Enter the value of y:')\n",
    "\n",
    "x = temp\n",
    "temp = y\n",
    "y = x\n",
    "        \n",
    "print(\"After Swapping: x =\", x, \" y =\", y);"
   ]
  },
  {
   "cell_type": "code",
   "execution_count": 58,
   "metadata": {},
   "outputs": [
    {
     "name": "stdout",
     "output_type": "stream",
     "text": [
      "Enter any digit0\n",
      "zero\n"
     ]
    }
   ],
   "source": [
    "#ques 3: WAP to take input of a single digit (0-9) from the user and print its name (5-five)\n",
    "\n",
    "x = int(input('Enter any digit'))\n",
    "\n",
    "if(x==0):\n",
    "    print('zero')\n",
    "elif(x==1):\n",
    "    print('one')    \n",
    "elif(x==2):\n",
    "    print('two')\n",
    "elif(x==3):\n",
    "    print('three')\n",
    "elif(x==4):\n",
    "    print('four')    \n",
    "elif(x==5):\n",
    "    print('five')\n",
    "elif(x==6):\n",
    "    print('six')    \n",
    "elif(x==7):\n",
    "    print('seven')\n",
    "elif(x==8):\n",
    "    print('eight')\n",
    "elif(x==9):\n",
    "    print('nine')    \n",
    "    \n",
    "else:\n",
    "    print('Number is too large');"
   ]
  },
  {
   "cell_type": "code",
   "execution_count": 54,
   "metadata": {},
   "outputs": [
    {
     "name": "stdout",
     "output_type": "stream",
     "text": [
      "(8, 16)\n"
     ]
    }
   ],
   "source": [
    "#ques 4: From the 2 tuples (1,2,3,4,5,6,7,8,9,10) and (11,12,13,14,15,16,17,18,19,20) make a new tuple containing only\n",
    "#numbers which are divisible by 4,8 \n",
    "\n",
    "a = (1,2,3,4,5,6,7,8,9,10)\n",
    "b = (11,12,13,14,15,16,17,18,19,20)\n",
    "c = []\n",
    "\n",
    "for i in range(10):\n",
    "    if(a[i] % 4 == 0):\n",
    "        if(a[i] % 8 ==0):\n",
    "            c.append(a[i])\n",
    "\n",
    "for i in range(10):\n",
    "    if(b[i] % 4 == 0):\n",
    "        if(b[i] % 8 ==0):\n",
    "            c.append(b[i])\n",
    "d=tuple(c)\n",
    "print(d)\n",
    "            \n",
    "            \n",
    "    "
   ]
  }
 ],
 "metadata": {
  "kernelspec": {
   "display_name": "Python 3",
   "language": "python",
   "name": "python3"
  },
  "language_info": {
   "codemirror_mode": {
    "name": "ipython",
    "version": 3
   },
   "file_extension": ".py",
   "mimetype": "text/x-python",
   "name": "python",
   "nbconvert_exporter": "python",
   "pygments_lexer": "ipython3",
   "version": "3.7.1"
  }
 },
 "nbformat": 4,
 "nbformat_minor": 2
}
